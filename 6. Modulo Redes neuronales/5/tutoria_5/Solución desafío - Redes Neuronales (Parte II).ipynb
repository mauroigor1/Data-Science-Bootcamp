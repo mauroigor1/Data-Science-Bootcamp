{
 "cells": [
  {
   "cell_type": "markdown",
   "id": "6l5AuId9PteQ",
   "metadata": {
    "id": "6l5AuId9PteQ"
   },
   "source": [
    "![logo.png](data:image/png;base64,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)"
   ]
  },
  {
   "cell_type": "markdown",
   "id": "2593687a-7947-4389-a46a-28c6331d916b",
   "metadata": {
    "id": "2593687a-7947-4389-a46a-28c6331d916b"
   },
   "source": [
    "# <font color = 'green'>Solución Desafío - Redes Neuronales FeedForward Parte II</font>\n"
   ]
  },
  {
   "cell_type": "markdown",
   "id": "56e765d8-79cc-4c21-b39d-09f1d5a96413",
   "metadata": {
    "id": "56e765d8-79cc-4c21-b39d-09f1d5a96413"
   },
   "source": [
    "## Carga de bibliotecas y datos"
   ]
  },
  {
   "cell_type": "code",
   "execution_count": 66,
   "id": "3a214a84-0345-49a6-be09-3cedf153d60f",
   "metadata": {
    "colab": {
     "base_uri": "https://localhost:8080/"
    },
    "executionInfo": {
     "elapsed": 6268,
     "status": "ok",
     "timestamp": 1705335016777,
     "user": {
      "displayName": "Pedro Rupin Gutiérrez",
      "userId": "00594041316908064396"
     },
     "user_tz": 180
    },
    "id": "3a214a84-0345-49a6-be09-3cedf153d60f",
    "outputId": "a37b5fc0-0c60-4e5e-ba59-9ff77c0a91cb"
   },
   "outputs": [
    {
     "name": "stdout",
     "output_type": "stream",
     "text": [
      "Requirement already satisfied: scikeras in /usr/local/lib/python3.10/dist-packages (0.12.0)\n",
      "Requirement already satisfied: packaging>=0.21 in /usr/local/lib/python3.10/dist-packages (from scikeras) (23.2)\n",
      "Requirement already satisfied: scikit-learn>=1.0.0 in /usr/local/lib/python3.10/dist-packages (from scikeras) (1.2.2)\n",
      "Requirement already satisfied: numpy>=1.17.3 in /usr/local/lib/python3.10/dist-packages (from scikit-learn>=1.0.0->scikeras) (1.23.5)\n",
      "Requirement already satisfied: scipy>=1.3.2 in /usr/local/lib/python3.10/dist-packages (from scikit-learn>=1.0.0->scikeras) (1.11.4)\n",
      "Requirement already satisfied: joblib>=1.1.1 in /usr/local/lib/python3.10/dist-packages (from scikit-learn>=1.0.0->scikeras) (1.3.2)\n",
      "Requirement already satisfied: threadpoolctl>=2.0.0 in /usr/local/lib/python3.10/dist-packages (from scikit-learn>=1.0.0->scikeras) (3.2.0)\n"
     ]
    }
   ],
   "source": [
    "!pip install scikeras\n",
    "import pandas as pd\n",
    "import numpy as np\n",
    "import matplotlib.pyplot as plt\n",
    "import matplotlib.ticker as mtick\n",
    "\n",
    "from sklearn.metrics import classification_report, roc_curve, roc_auc_score\n",
    "from sklearn.model_selection import train_test_split\n",
    "from sklearn.preprocessing import StandardScaler\n",
    "from sklearn.model_selection import GridSearchCV\n",
    "import pickle\n",
    "\n",
    "import keras\n",
    "import scikeras\n",
    "from scikeras.wrappers import KerasClassifier\n",
    "from tensorflow.keras.layers import Dense, Dropout  # Change here\n",
    "from tensorflow.keras.optimizers import SGD, Adadelta, Adagrad\n",
    "from keras.models import Sequential\n",
    "from keras.initializers import HeNormal\n",
    "from keras.constraints import max_norm\n",
    "from keras.regularizers import l1, l2"
   ]
  },
  {
   "cell_type": "code",
   "execution_count": 67,
   "id": "790205a7-bd22-436b-87fa-c78604ba21f5",
   "metadata": {
    "colab": {
     "base_uri": "https://localhost:8080/"
    },
    "executionInfo": {
     "elapsed": 785,
     "status": "ok",
     "timestamp": 1705335020401,
     "user": {
      "displayName": "Pedro Rupin Gutiérrez",
      "userId": "00594041316908064396"
     },
     "user_tz": 180
    },
    "id": "790205a7-bd22-436b-87fa-c78604ba21f5",
    "outputId": "545e8118-80d5-4fc2-e725-405e80ddc50f"
   },
   "outputs": [
    {
     "name": "stdout",
     "output_type": "stream",
     "text": [
      "(119390, 26)\n"
     ]
    },
    {
     "data": {
      "text/plain": [
       "Index(['hotel', 'is_canceled', 'lead_time', 'arrival_date_month',\n",
       "       'arrival_date_week_number', 'arrival_date_day_of_month',\n",
       "       'stays_in_weekend_nights', 'stays_in_week_nights', 'adults', 'children',\n",
       "       'babies', 'meal', 'market_segment', 'distribution_channel',\n",
       "       'is_repeated_guest', 'previous_cancellations',\n",
       "       'previous_bookings_not_canceled', 'reserved_room_type',\n",
       "       'assigned_room_type', 'booking_changes', 'deposit_type',\n",
       "       'days_in_waiting_list', 'customer_type', 'adr',\n",
       "       'required_car_parking_spaces', 'total_of_special_requests'],\n",
       "      dtype='object')"
      ]
     },
     "execution_count": 67,
     "metadata": {},
     "output_type": "execute_result"
    }
   ],
   "source": [
    "df = pd.read_csv('hotel_bookings.csv')\n",
    "#descartamos las variables irrelevantes\n",
    "df = df.drop(columns=['index', 'arrival_date_year', 'agent', 'country',\n",
    "                      'company', 'reservation_status', 'reservation_status_date'])\n",
    "print(df.shape)\n",
    "df.columns"
   ]
  },
  {
   "cell_type": "markdown",
   "id": "24e36943-807f-45cc-8b53-7d66acd0610d",
   "metadata": {
    "id": "24e36943-807f-45cc-8b53-7d66acd0610d"
   },
   "source": [
    "Revisamos en búsqueda de valores ausentes"
   ]
  },
  {
   "cell_type": "code",
   "execution_count": 68,
   "id": "754c0663-e9fa-44a7-8ba5-8a275b9034c8",
   "metadata": {
    "colab": {
     "base_uri": "https://localhost:8080/",
     "height": 314
    },
    "executionInfo": {
     "elapsed": 325,
     "status": "ok",
     "timestamp": 1705335024561,
     "user": {
      "displayName": "Pedro Rupin Gutiérrez",
      "userId": "00594041316908064396"
     },
     "user_tz": 180
    },
    "id": "754c0663-e9fa-44a7-8ba5-8a275b9034c8",
    "outputId": "e438eb11-fca2-49b5-cfa4-d59888929c97"
   },
   "outputs": [
    {
     "data": {
      "image/png": "[encoded data removed]",
      "text/plain": [
       "<Figure size 300x300 with 1 Axes>"
      ]
     },
     "metadata": {},
     "output_type": "display_data"
    }
   ],
   "source": [
    "def viz_na(df, umbral=.04):\n",
    "    n_obs = df.shape[0]\n",
    "\n",
    "    na_ = df.apply(lambda x: np.sum(x.isnull())/n_obs, axis=0)\n",
    "    na_ = na_[(na_ > 0) & (na_ < umbral)].sort_values(ascending=True)\n",
    "\n",
    "    fig, ax = plt.subplots(figsize=(3, 3))\n",
    "\n",
    "    # Make the plot\n",
    "    ax.stem(na_.values, orientation='horizontal')\n",
    "    ax.set_yticks(range(na_.shape[0]), na_.index)\n",
    "\n",
    "    fmt = '%.1f%%' # Format you want the ticks, e.g. '40.00%'\n",
    "    xticks = mtick.FormatStrFormatter(fmt)\n",
    "    ax.xaxis.set_major_formatter(xticks)\n",
    "\n",
    "    ax.set_title(f'% Valores ausentes < {umbral}')\n",
    "\n",
    "    plt.show()\n",
    "\n",
    "viz_na(df, umbral=.04)"
   ]
  },
  {
   "cell_type": "code",
   "execution_count": 69,
   "id": "f64818c8-c364-4f5b-ab6c-98097ec6021d",
   "metadata": {
    "colab": {
     "base_uri": "https://localhost:8080/"
    },
    "executionInfo": {
     "elapsed": 340,
     "status": "ok",
     "timestamp": 1705335028873,
     "user": {
      "displayName": "Pedro Rupin Gutiérrez",
      "userId": "00594041316908064396"
     },
     "user_tz": 180
    },
    "id": "f64818c8-c364-4f5b-ab6c-98097ec6021d",
    "outputId": "538722b6-07db-4ef9-b4e9-0fff921efb3e"
   },
   "outputs": [
    {
     "data": {
      "text/plain": [
       "0.0     110796\n",
       "1.0       4861\n",
       "2.0       3652\n",
       "3.0         76\n",
       "10.0         1\n",
       "Name: children, dtype: int64"
      ]
     },
     "execution_count": 69,
     "metadata": {},
     "output_type": "execute_result"
    }
   ],
   "source": [
    "# revisamos la variable children que presenta cuatro valores ausentes\n",
    "df['children'].value_counts()"
   ]
  },
  {
   "cell_type": "code",
   "execution_count": 70,
   "id": "a3c48f4f-afcd-4e65-9735-0e4f4a0cec41",
   "metadata": {
    "colab": {
     "base_uri": "https://localhost:8080/"
    },
    "executionInfo": {
     "elapsed": 351,
     "status": "ok",
     "timestamp": 1705335032961,
     "user": {
      "displayName": "Pedro Rupin Gutiérrez",
      "userId": "00594041316908064396"
     },
     "user_tz": 180
    },
    "id": "a3c48f4f-afcd-4e65-9735-0e4f4a0cec41",
    "outputId": "9176df11-ec77-4dfd-a655-7bb1214bb302"
   },
   "outputs": [
    {
     "name": "stdout",
     "output_type": "stream",
     "text": [
      "(119386, 26)\n"
     ]
    }
   ],
   "source": [
    "# Se eliminan los registros con valores ausentes\n",
    "df = df.dropna(subset=['children'])\n",
    "print(df.shape)"
   ]
  },
  {
   "cell_type": "markdown",
   "id": "2b53d876-f3c7-4481-83ab-7c8919e79a5d",
   "metadata": {
    "id": "2b53d876-f3c7-4481-83ab-7c8919e79a5d"
   },
   "source": [
    "Cambiamos el tipo de dato de la variable children"
   ]
  },
  {
   "cell_type": "code",
   "execution_count": 71,
   "id": "c7e3187d-d796-46cf-a4a2-1c4baabf53a0",
   "metadata": {
    "colab": {
     "base_uri": "https://localhost:8080/"
    },
    "executionInfo": {
     "elapsed": 312,
     "status": "ok",
     "timestamp": 1705335037212,
     "user": {
      "displayName": "Pedro Rupin Gutiérrez",
      "userId": "00594041316908064396"
     },
     "user_tz": 180
    },
    "id": "c7e3187d-d796-46cf-a4a2-1c4baabf53a0",
    "outputId": "b610a704-a060-4455-d956-71387c200509"
   },
   "outputs": [
    {
     "name": "stdout",
     "output_type": "stream",
     "text": [
      "<class 'pandas.core.frame.DataFrame'>\n",
      "Int64Index: 119386 entries, 0 to 119389\n",
      "Data columns (total 26 columns):\n",
      " #   Column                          Non-Null Count   Dtype  \n",
      "---  ------                          --------------   -----  \n",
      " 0   hotel                           119386 non-null  object \n",
      " 1   is_canceled                     119386 non-null  int64  \n",
      " 2   lead_time                       119386 non-null  int64  \n",
      " 3   arrival_date_month              119386 non-null  object \n",
      " 4   arrival_date_week_number        119386 non-null  int64  \n",
      " 5   arrival_date_day_of_month       119386 non-null  int64  \n",
      " 6   stays_in_weekend_nights         119386 non-null  int64  \n",
      " 7   stays_in_week_nights            119386 non-null  int64  \n",
      " 8   adults                          119386 non-null  int64  \n",
      " 9   children                        119386 non-null  int64  \n",
      " 10  babies                          119386 non-null  int64  \n",
      " 11  meal                            119386 non-null  object \n",
      " 12  market_segment                  119386 non-null  object \n",
      " 13  distribution_channel            119386 non-null  object \n",
      " 14  is_repeated_guest               119386 non-null  int64  \n",
      " 15  previous_cancellations          119386 non-null  int64  \n",
      " 16  previous_bookings_not_canceled  119386 non-null  int64  \n",
      " 17  reserved_room_type              119386 non-null  object \n",
      " 18  assigned_room_type              119386 non-null  object \n",
      " 19  booking_changes                 119386 non-null  int64  \n",
      " 20  deposit_type                    119386 non-null  object \n",
      " 21  days_in_waiting_list            119386 non-null  int64  \n",
      " 22  customer_type                   119386 non-null  object \n",
      " 23  adr                             119386 non-null  float64\n",
      " 24  required_car_parking_spaces     119386 non-null  int64  \n",
      " 25  total_of_special_requests       119386 non-null  int64  \n",
      "dtypes: float64(1), int64(16), object(9)\n",
      "memory usage: 24.6+ MB\n"
     ]
    }
   ],
   "source": [
    "df['children'] = df['children'].astype('int64')\n",
    "df.info()"
   ]
  },
  {
   "cell_type": "markdown",
   "id": "f4be6eae-94bd-4d72-b58a-ff17e4aa83ed",
   "metadata": {
    "id": "f4be6eae-94bd-4d72-b58a-ff17e4aa83ed"
   },
   "source": [
    "Analizamos la variable adr en busca valores atípicos"
   ]
  },
  {
   "cell_type": "code",
   "execution_count": 72,
   "id": "4af07598-afe5-4e45-afea-3d73cb31b986",
   "metadata": {
    "colab": {
     "base_uri": "https://localhost:8080/"
    },
    "executionInfo": {
     "elapsed": 346,
     "status": "ok",
     "timestamp": 1705335041762,
     "user": {
      "displayName": "Pedro Rupin Gutiérrez",
      "userId": "00594041316908064396"
     },
     "user_tz": 180
    },
    "id": "4af07598-afe5-4e45-afea-3d73cb31b986",
    "outputId": "98336517-aea9-44b7-8c10-df73d4c9bb4a"
   },
   "outputs": [
    {
     "data": {
      "text/plain": [
       "count    119386.000000\n",
       "mean        101.833541\n",
       "std          50.534664\n",
       "min          -6.380000\n",
       "25%          69.290000\n",
       "50%          94.590000\n",
       "75%         126.000000\n",
       "max        5400.000000\n",
       "Name: adr, dtype: float64"
      ]
     },
     "execution_count": 72,
     "metadata": {},
     "output_type": "execute_result"
    }
   ],
   "source": [
    "# adr: Tarifa media diaria definida dividiendo la suma de todas\n",
    "# las transacciones de alojamiento por el número total de noches\n",
    "# de estancia.\n",
    "df['adr'].describe()"
   ]
  },
  {
   "cell_type": "code",
   "execution_count": 73,
   "id": "c025499f-f2f8-4adb-8126-bf0b0eae0d9c",
   "metadata": {
    "colab": {
     "base_uri": "https://localhost:8080/",
     "height": 430
    },
    "executionInfo": {
     "elapsed": 352,
     "status": "ok",
     "timestamp": 1705335045150,
     "user": {
      "displayName": "Pedro Rupin Gutiérrez",
      "userId": "00594041316908064396"
     },
     "user_tz": 180
    },
    "id": "c025499f-f2f8-4adb-8126-bf0b0eae0d9c",
    "outputId": "1cd2af53-70d7-40f5-fc33-57c6ed1f059a"
   },
   "outputs": [
    {
     "data": {
      "image/png": "[encoded data removed]",
      "text/plain": [
       "<Figure size 640x480 with 1 Axes>"
      ]
     },
     "metadata": {},
     "output_type": "display_data"
    }
   ],
   "source": [
    "plt.boxplot(df['adr'], vert=False);"
   ]
  },
  {
   "cell_type": "markdown",
   "id": "b655ed20-4ceb-49f2-a780-84b7dbe486dc",
   "metadata": {
    "id": "b655ed20-4ceb-49f2-a780-84b7dbe486dc"
   },
   "source": [
    "Se eliminan los tres valores outlier más extremos que se escapan por arriba y tres que se escapan por abajo (cuando corresponda) para la variable adr, cuando la cantidad total de outliers a eliminar (en este caso seis) sea menor al 4% del total de observaciones."
   ]
  },
  {
   "cell_type": "code",
   "execution_count": 65,
   "id": "vUkKIQjI3nHc",
   "metadata": {
    "colab": {
     "base_uri": "https://localhost:8080/"
    },
    "executionInfo": {
     "elapsed": 317,
     "status": "ok",
     "timestamp": 1705334999153,
     "user": {
      "displayName": "Pedro Rupin Gutiérrez",
      "userId": "00594041316908064396"
     },
     "user_tz": 180
    },
    "id": "vUkKIQjI3nHc",
    "outputId": "7c3757ab-3c5d-4605-fec3-950f7fda63f6"
   },
   "outputs": [
    {
     "name": "stdout",
     "output_type": "stream",
     "text": [
      "Cantidad de filas previo a la eliminación: 119383\n",
      "Cantidad de filas luego de la eliminación: 119380\n"
     ]
    }
   ],
   "source": [
    "def drop_outliers(df_in, column, n_upper=1, n_lower=1):\n",
    "    print(f'Cantidad de filas previo a la eliminación: {df_in.shape[0]}')\n",
    "\n",
    "    q1 = np.percentile(df_in[column], 25)\n",
    "    q3 = np.percentile(df_in[column], 75)\n",
    "    iqr = q3 - q1\n",
    "\n",
    "    upper_limit = q3 + 1.5 * iqr\n",
    "    lower_limit = q1 - 1.5 * iqr\n",
    "\n",
    "    # Selecciona los índices de las observaciones atípicas por encima\n",
    "    idx_upper = df_in[df_in[column] > upper_limit].sort_values(by=column, ascending=False).head(n_upper).index\n",
    "    # Selecciona los índices de las observaciones atípicas por debajo\n",
    "    idx_lower = df_in[df_in[column] < lower_limit].sort_values(by=column, ascending=False).head(n_lower).index\n",
    "\n",
    "    outliers = np.concatenate([idx_upper, idx_lower])\n",
    "    df_outliers_removed = df_in.drop(outliers)\n",
    "\n",
    "    print(f'Cantidad de filas luego de la eliminación: {df_outliers_removed.shape[0]}')\n",
    "\n",
    "    return df_outliers_removed\n",
    "\n",
    "# Llama a la función drop_outliers con el DataFrame original (df),\n",
    "# la columna 'adr' y los parámetros n_upper=3, n_lower=3\n",
    "df = drop_outliers(df_in=df, column='adr', n_upper=3, n_lower=3)\n"
   ]
  },
  {
   "cell_type": "code",
   "execution_count": 74,
   "id": "f6c679df-140d-4b32-be72-0723a6b0e88b",
   "metadata": {
    "colab": {
     "base_uri": "https://localhost:8080/",
     "height": 430
    },
    "executionInfo": {
     "elapsed": 320,
     "status": "ok",
     "timestamp": 1705335067151,
     "user": {
      "displayName": "Pedro Rupin Gutiérrez",
      "userId": "00594041316908064396"
     },
     "user_tz": 180
    },
    "id": "f6c679df-140d-4b32-be72-0723a6b0e88b",
    "outputId": "e7eb69fb-00fc-4859-83ce-f407c5bed923"
   },
   "outputs": [
    {
     "data": {
      "image/png": "[encoded data removed]",
      "text/plain": [
       "<Figure size 640x480 with 1 Axes>"
      ]
     },
     "metadata": {},
     "output_type": "display_data"
    }
   ],
   "source": [
    "plt.boxplot(df['adr'], vert=False);"
   ]
  },
  {
   "cell_type": "markdown",
   "id": "36ef06a7-246c-486d-b7f3-31a5a0eeb3b8",
   "metadata": {
    "id": "36ef06a7-246c-486d-b7f3-31a5a0eeb3b8"
   },
   "source": [
    "Se describen a continuación 5 variables relevantes respecto de la cancelación de la reserva."
   ]
  },
  {
   "cell_type": "code",
   "execution_count": 75,
   "id": "84158279-86ae-4e98-b97f-c237a8644328",
   "metadata": {
    "colab": {
     "base_uri": "https://localhost:8080/",
     "height": 596
    },
    "executionInfo": {
     "elapsed": 2226,
     "status": "ok",
     "timestamp": 1705335554316,
     "user": {
      "displayName": "Pedro Rupin Gutiérrez",
      "userId": "00594041316908064396"
     },
     "user_tz": 180
    },
    "id": "84158279-86ae-4e98-b97f-c237a8644328",
    "outputId": "71eae11e-d29a-4ef1-83eb-50803346d384"
   },
   "outputs": [
    {
     "name": "stdout",
     "output_type": "stream",
     "text": [
      "(2, 3)\n"
     ]
    },
    {
     "data": {
      "image/png": "[encoded data removed]",
      "text/plain": [
       "<Figure size 1000x600 with 5 Axes>"
      ]
     },
     "metadata": {},
     "output_type": "display_data"
    }
   ],
   "source": [
    "def viz_categorical_target(df, columns, target):\n",
    "    max_col = 2\n",
    "\n",
    "    if len(columns) < max_col:\n",
    "        max_col = len(columns)\n",
    "\n",
    "    nrows = len(columns)//max_col\n",
    "    if len(columns) > max_col*nrows:\n",
    "        nrows += 1\n",
    "\n",
    "    print(f'({max_col}, {nrows})')\n",
    "    fig = plt.figure(figsize=(max_col*5, nrows*2))\n",
    "    val_cat = df[target].unique()\n",
    "\n",
    "    for icol, col in enumerate(columns):\n",
    "        df_tmp = pd.pivot_table(data=df, index=[col], columns=[target],\n",
    "                        values='hotel', aggfunc='count', fill_value=0, margins=True, margins_name='tot')\n",
    "        df_tmp = df_tmp.drop(index='tot', axis=0)\n",
    "        df_tmp = df_tmp.sort_values(by='tot', ascending=False)\n",
    "\n",
    "        group_count = np.array(df_tmp.index)\n",
    "        values1 = np.array([])\n",
    "        for i, cat in enumerate(val_cat):\n",
    "\n",
    "            values_ = np.array(df_tmp.loc[:,cat])\n",
    "\n",
    "            if i == 0:\n",
    "                ax1 = fig.add_subplot(nrows, max_col, icol+1)\n",
    "                values1 = values_\n",
    "\n",
    "                ax1.set_title(col)\n",
    "                ax1.bar(group_count, values_, label=target + f'={cat}')\n",
    "            else:\n",
    "\n",
    "                ax1.bar(group_count, values_, bottom=values1, label=target + f'={cat}')\n",
    "\n",
    "    plt.legend()\n",
    "    plt.tight_layout()\n",
    "    plt.show()\n",
    "\n",
    "\n",
    "\n",
    "features = ['deposit_type', 'customer_type', 'booking_changes', 'children', 'required_car_parking_spaces']\n",
    "viz_categorical_target(df, features, 'is_canceled')"
   ]
  },
  {
   "cell_type": "markdown",
   "id": "51dce466-bd38-46fa-ba06-b50dd076fb59",
   "metadata": {
    "id": "51dce466-bd38-46fa-ba06-b50dd076fb59"
   },
   "source": [
    "#### Se muestra la distribución de la variable adr para las clases reserva cancelada y no cancelada"
   ]
  },
  {
   "cell_type": "code",
   "execution_count": null,
   "id": "05b9346d-05ff-4df7-8d34-f6e459d5ac11",
   "metadata": {
    "id": "05b9346d-05ff-4df7-8d34-f6e459d5ac11",
    "outputId": "0912ac7e-0b2f-4a3e-80d9-62c07dbaaa9e"
   },
   "outputs": [
    {
     "data": {
      "image/png": "[encoded data removed]",
      "text/plain": [
       "<Figure size 640x480 with 1 Axes>"
      ]
     },
     "metadata": {},
     "output_type": "display_data"
    }
   ],
   "source": [
    "plt.hist(x='adr', color='blue', alpha=.3, data=df[df['is_canceled']==0], label='is_canceled=0', bins=80)\n",
    "plt.hist(x='adr', color='red', alpha=.3, data=df[df['is_canceled']==1], label='is_canceled=1', bins=80)\n",
    "plt.title('Tarifa diaria promedio')\n",
    "plt.grid(alpha=.2)\n",
    "plt.legend();"
   ]
  },
  {
   "cell_type": "markdown",
   "id": "2fd1c5e0-e169-4f6f-9ebc-3276b9b5a47e",
   "metadata": {
    "id": "2fd1c5e0-e169-4f6f-9ebc-3276b9b5a47e"
   },
   "source": [
    "Construiremos ahora las variables Dummies"
   ]
  },
  {
   "cell_type": "code",
   "execution_count": 76,
   "id": "d58319bd-fcf0-42d2-9e4b-e5578ac286cb",
   "metadata": {
    "colab": {
     "base_uri": "https://localhost:8080/",
     "height": 430
    },
    "executionInfo": {
     "elapsed": 356,
     "status": "ok",
     "timestamp": 1705335603855,
     "user": {
      "displayName": "Pedro Rupin Gutiérrez",
      "userId": "00594041316908064396"
     },
     "user_tz": 180
    },
    "id": "d58319bd-fcf0-42d2-9e4b-e5578ac286cb",
    "outputId": "82392739-0dca-414e-a276-05a15afc038d"
   },
   "outputs": [
    {
     "data": {
      "text/html": [
       "\n",
       "  <div id=\"df-e7c7dbf2-362e-475d-be8b-af04ac0a1003\" class=\"colab-df-container\">\n",
       "    <div>\n",
       "<style scoped>\n",
       "    .dataframe tbody tr th:only-of-type {\n",
       "        vertical-align: middle;\n",
       "    }\n",
       "\n",
       "    .dataframe tbody tr th {\n",
       "        vertical-align: top;\n",
       "    }\n",
       "\n",
       "    .dataframe thead th {\n",
       "        text-align: right;\n",
       "    }\n",
       "</style>\n",
       "<table border=\"1\" class=\"dataframe\">\n",
       "  <thead>\n",
       "    <tr style=\"text-align: right;\">\n",
       "      <th></th>\n",
       "      <th>is_canceled</th>\n",
       "      <th>lead_time</th>\n",
       "      <th>arrival_date_week_number</th>\n",
       "      <th>arrival_date_day_of_month</th>\n",
       "      <th>stays_in_weekend_nights</th>\n",
       "      <th>stays_in_week_nights</th>\n",
       "      <th>adults</th>\n",
       "      <th>children</th>\n",
       "      <th>babies</th>\n",
       "      <th>is_repeated_guest</th>\n",
       "      <th>...</th>\n",
       "      <th>assigned_room_type_H</th>\n",
       "      <th>assigned_room_type_I</th>\n",
       "      <th>assigned_room_type_K</th>\n",
       "      <th>assigned_room_type_L</th>\n",
       "      <th>assigned_room_type_P</th>\n",
       "      <th>deposit_type_Non Refund</th>\n",
       "      <th>deposit_type_Refundable</th>\n",
       "      <th>customer_type_Group</th>\n",
       "      <th>customer_type_Transient</th>\n",
       "      <th>customer_type_Transient-Party</th>\n",
       "    </tr>\n",
       "  </thead>\n",
       "  <tbody>\n",
       "    <tr>\n",
       "      <th>83430</th>\n",
       "      <td>0</td>\n",
       "      <td>20</td>\n",
       "      <td>5</td>\n",
       "      <td>29</td>\n",
       "      <td>1</td>\n",
       "      <td>2</td>\n",
       "      <td>2</td>\n",
       "      <td>0</td>\n",
       "      <td>0</td>\n",
       "      <td>0</td>\n",
       "      <td>...</td>\n",
       "      <td>0</td>\n",
       "      <td>0</td>\n",
       "      <td>0</td>\n",
       "      <td>0</td>\n",
       "      <td>0</td>\n",
       "      <td>0</td>\n",
       "      <td>0</td>\n",
       "      <td>0</td>\n",
       "      <td>1</td>\n",
       "      <td>0</td>\n",
       "    </tr>\n",
       "    <tr>\n",
       "      <th>7716</th>\n",
       "      <td>1</td>\n",
       "      <td>77</td>\n",
       "      <td>35</td>\n",
       "      <td>22</td>\n",
       "      <td>1</td>\n",
       "      <td>2</td>\n",
       "      <td>2</td>\n",
       "      <td>0</td>\n",
       "      <td>0</td>\n",
       "      <td>0</td>\n",
       "      <td>...</td>\n",
       "      <td>0</td>\n",
       "      <td>0</td>\n",
       "      <td>0</td>\n",
       "      <td>0</td>\n",
       "      <td>0</td>\n",
       "      <td>0</td>\n",
       "      <td>0</td>\n",
       "      <td>0</td>\n",
       "      <td>1</td>\n",
       "      <td>0</td>\n",
       "    </tr>\n",
       "    <tr>\n",
       "      <th>50962</th>\n",
       "      <td>1</td>\n",
       "      <td>309</td>\n",
       "      <td>20</td>\n",
       "      <td>12</td>\n",
       "      <td>0</td>\n",
       "      <td>2</td>\n",
       "      <td>2</td>\n",
       "      <td>0</td>\n",
       "      <td>0</td>\n",
       "      <td>0</td>\n",
       "      <td>...</td>\n",
       "      <td>0</td>\n",
       "      <td>0</td>\n",
       "      <td>0</td>\n",
       "      <td>0</td>\n",
       "      <td>0</td>\n",
       "      <td>1</td>\n",
       "      <td>0</td>\n",
       "      <td>0</td>\n",
       "      <td>1</td>\n",
       "      <td>0</td>\n",
       "    </tr>\n",
       "    <tr>\n",
       "      <th>73661</th>\n",
       "      <td>1</td>\n",
       "      <td>234</td>\n",
       "      <td>35</td>\n",
       "      <td>29</td>\n",
       "      <td>0</td>\n",
       "      <td>4</td>\n",
       "      <td>2</td>\n",
       "      <td>0</td>\n",
       "      <td>0</td>\n",
       "      <td>0</td>\n",
       "      <td>...</td>\n",
       "      <td>0</td>\n",
       "      <td>0</td>\n",
       "      <td>0</td>\n",
       "      <td>0</td>\n",
       "      <td>0</td>\n",
       "      <td>0</td>\n",
       "      <td>0</td>\n",
       "      <td>0</td>\n",
       "      <td>1</td>\n",
       "      <td>0</td>\n",
       "    </tr>\n",
       "    <tr>\n",
       "      <th>114720</th>\n",
       "      <td>0</td>\n",
       "      <td>48</td>\n",
       "      <td>26</td>\n",
       "      <td>26</td>\n",
       "      <td>1</td>\n",
       "      <td>0</td>\n",
       "      <td>2</td>\n",
       "      <td>2</td>\n",
       "      <td>0</td>\n",
       "      <td>0</td>\n",
       "      <td>...</td>\n",
       "      <td>0</td>\n",
       "      <td>0</td>\n",
       "      <td>0</td>\n",
       "      <td>0</td>\n",
       "      <td>0</td>\n",
       "      <td>0</td>\n",
       "      <td>0</td>\n",
       "      <td>0</td>\n",
       "      <td>1</td>\n",
       "      <td>0</td>\n",
       "    </tr>\n",
       "    <tr>\n",
       "      <th>49225</th>\n",
       "      <td>1</td>\n",
       "      <td>99</td>\n",
       "      <td>15</td>\n",
       "      <td>8</td>\n",
       "      <td>0</td>\n",
       "      <td>2</td>\n",
       "      <td>2</td>\n",
       "      <td>0</td>\n",
       "      <td>0</td>\n",
       "      <td>0</td>\n",
       "      <td>...</td>\n",
       "      <td>0</td>\n",
       "      <td>0</td>\n",
       "      <td>0</td>\n",
       "      <td>0</td>\n",
       "      <td>0</td>\n",
       "      <td>0</td>\n",
       "      <td>0</td>\n",
       "      <td>0</td>\n",
       "      <td>1</td>\n",
       "      <td>0</td>\n",
       "    </tr>\n",
       "    <tr>\n",
       "      <th>10134</th>\n",
       "      <td>1</td>\n",
       "      <td>92</td>\n",
       "      <td>7</td>\n",
       "      <td>15</td>\n",
       "      <td>0</td>\n",
       "      <td>3</td>\n",
       "      <td>2</td>\n",
       "      <td>0</td>\n",
       "      <td>0</td>\n",
       "      <td>0</td>\n",
       "      <td>...</td>\n",
       "      <td>0</td>\n",
       "      <td>0</td>\n",
       "      <td>0</td>\n",
       "      <td>0</td>\n",
       "      <td>0</td>\n",
       "      <td>0</td>\n",
       "      <td>0</td>\n",
       "      <td>0</td>\n",
       "      <td>1</td>\n",
       "      <td>0</td>\n",
       "    </tr>\n",
       "    <tr>\n",
       "      <th>20943</th>\n",
       "      <td>0</td>\n",
       "      <td>4</td>\n",
       "      <td>7</td>\n",
       "      <td>13</td>\n",
       "      <td>0</td>\n",
       "      <td>1</td>\n",
       "      <td>2</td>\n",
       "      <td>0</td>\n",
       "      <td>0</td>\n",
       "      <td>0</td>\n",
       "      <td>...</td>\n",
       "      <td>0</td>\n",
       "      <td>0</td>\n",
       "      <td>0</td>\n",
       "      <td>0</td>\n",
       "      <td>0</td>\n",
       "      <td>0</td>\n",
       "      <td>0</td>\n",
       "      <td>0</td>\n",
       "      <td>1</td>\n",
       "      <td>0</td>\n",
       "    </tr>\n",
       "    <tr>\n",
       "      <th>50409</th>\n",
       "      <td>1</td>\n",
       "      <td>53</td>\n",
       "      <td>18</td>\n",
       "      <td>30</td>\n",
       "      <td>0</td>\n",
       "      <td>1</td>\n",
       "      <td>1</td>\n",
       "      <td>0</td>\n",
       "      <td>0</td>\n",
       "      <td>0</td>\n",
       "      <td>...</td>\n",
       "      <td>0</td>\n",
       "      <td>0</td>\n",
       "      <td>0</td>\n",
       "      <td>0</td>\n",
       "      <td>0</td>\n",
       "      <td>0</td>\n",
       "      <td>0</td>\n",
       "      <td>0</td>\n",
       "      <td>1</td>\n",
       "      <td>0</td>\n",
       "    </tr>\n",
       "    <tr>\n",
       "      <th>53821</th>\n",
       "      <td>1</td>\n",
       "      <td>11</td>\n",
       "      <td>27</td>\n",
       "      <td>30</td>\n",
       "      <td>0</td>\n",
       "      <td>3</td>\n",
       "      <td>2</td>\n",
       "      <td>0</td>\n",
       "      <td>0</td>\n",
       "      <td>0</td>\n",
       "      <td>...</td>\n",
       "      <td>0</td>\n",
       "      <td>0</td>\n",
       "      <td>0</td>\n",
       "      <td>0</td>\n",
       "      <td>0</td>\n",
       "      <td>0</td>\n",
       "      <td>0</td>\n",
       "      <td>0</td>\n",
       "      <td>1</td>\n",
       "      <td>0</td>\n",
       "    </tr>\n",
       "  </tbody>\n",
       "</table>\n",
       "<p>10 rows × 68 columns</p>\n",
       "</div>\n",
       "    <div class=\"colab-df-buttons\">\n",
       "\n",
       "  <div class=\"colab-df-container\">\n",
       "    <button class=\"colab-df-convert\" onclick=\"convertToInteractive('df-e7c7dbf2-362e-475d-be8b-af04ac0a1003')\"\n",
       "            title=\"Convert this dataframe to an interactive table.\"\n",
       "            style=\"display:none;\">\n",
       "\n",
       "  <svg xmlns=\"http://www.w3.org/2000/svg\" height=\"24px\" viewBox=\"0 -960 960 960\">\n",
       "    <path d=\"M120-120v-720h720v720H120Zm60-500h600v-160H180v160Zm220 220h160v-160H400v160Zm0 220h160v-160H400v160ZM180-400h160v-160H180v160Zm440 0h160v-160H620v160ZM180-180h160v-160H180v160Zm440 0h160v-160H620v160Z\"/>\n",
       "  </svg>\n",
       "    </button>\n",
       "\n",
       "  <style>\n",
       "    .colab-df-container {\n",
       "      display:flex;\n",
       "      gap: 12px;\n",
       "    }\n",
       "\n",
       "    .colab-df-convert {\n",
       "      background-color: #E8F0FE;\n",
       "      border: none;\n",
       "      border-radius: 50%;\n",
       "      cursor: pointer;\n",
       "      display: none;\n",
       "      fill: #1967D2;\n",
       "      height: 32px;\n",
       "      padding: 0 0 0 0;\n",
       "      width: 32px;\n",
       "    }\n",
       "\n",
       "    .colab-df-convert:hover {\n",
       "      background-color: #E2EBFA;\n",
       "      box-shadow: 0px 1px 2px rgba(60, 64, 67, 0.3), 0px 1px 3px 1px rgba(60, 64, 67, 0.15);\n",
       "      fill: #174EA6;\n",
       "    }\n",
       "\n",
       "    .colab-df-buttons div {\n",
       "      margin-bottom: 4px;\n",
       "    }\n",
       "\n",
       "    [theme=dark] .colab-df-convert {\n",
       "      background-color: #3B4455;\n",
       "      fill: #D2E3FC;\n",
       "    }\n",
       "\n",
       "    [theme=dark] .colab-df-convert:hover {\n",
       "      background-color: #434B5C;\n",
       "      box-shadow: 0px 1px 3px 1px rgba(0, 0, 0, 0.15);\n",
       "      filter: drop-shadow(0px 1px 2px rgba(0, 0, 0, 0.3));\n",
       "      fill: #FFFFFF;\n",
       "    }\n",
       "  </style>\n",
       "\n",
       "    <script>\n",
       "      const buttonEl =\n",
       "        document.querySelector('#df-e7c7dbf2-362e-475d-be8b-af04ac0a1003 button.colab-df-convert');\n",
       "      buttonEl.style.display =\n",
       "        google.colab.kernel.accessAllowed ? 'block' : 'none';\n",
       "\n",
       "      async function convertToInteractive(key) {\n",
       "        const element = document.querySelector('#df-e7c7dbf2-362e-475d-be8b-af04ac0a1003');\n",
       "        const dataTable =\n",
       "          await google.colab.kernel.invokeFunction('convertToInteractive',\n",
       "                                                    [key], {});\n",
       "        if (!dataTable) return;\n",
       "\n",
       "        const docLinkHtml = 'Like what you see? Visit the ' +\n",
       "          '<a target=\"_blank\" href=https://colab.research.google.com/notebooks/data_table.ipynb>data table notebook</a>'\n",
       "          + ' to learn more about interactive tables.';\n",
       "        element.innerHTML = '';\n",
       "        dataTable['output_type'] = 'display_data';\n",
       "        await google.colab.output.renderOutput(dataTable, element);\n",
       "        const docLink = document.createElement('div');\n",
       "        docLink.innerHTML = docLinkHtml;\n",
       "        element.appendChild(docLink);\n",
       "      }\n",
       "    </script>\n",
       "  </div>\n",
       "\n",
       "\n",
       "<div id=\"df-892e1fe1-664d-40da-9ec0-c3a6b9ffc1ab\">\n",
       "  <button class=\"colab-df-quickchart\" onclick=\"quickchart('df-892e1fe1-664d-40da-9ec0-c3a6b9ffc1ab')\"\n",
       "            title=\"Suggest charts\"\n",
       "            style=\"display:none;\">\n",
       "\n",
       "<svg xmlns=\"http://www.w3.org/2000/svg\" height=\"24px\"viewBox=\"0 0 24 24\"\n",
       "     width=\"24px\">\n",
       "    <g>\n",
       "        <path d=\"M19 3H5c-1.1 0-2 .9-2 2v14c0 1.1.9 2 2 2h14c1.1 0 2-.9 2-2V5c0-1.1-.9-2-2-2zM9 17H7v-7h2v7zm4 0h-2V7h2v10zm4 0h-2v-4h2v4z\"/>\n",
       "    </g>\n",
       "</svg>\n",
       "  </button>\n",
       "\n",
       "<style>\n",
       "  .colab-df-quickchart {\n",
       "      --bg-color: #E8F0FE;\n",
       "      --fill-color: #1967D2;\n",
       "      --hover-bg-color: #E2EBFA;\n",
       "      --hover-fill-color: #174EA6;\n",
       "      --disabled-fill-color: #AAA;\n",
       "      --disabled-bg-color: #DDD;\n",
       "  }\n",
       "\n",
       "  [theme=dark] .colab-df-quickchart {\n",
       "      --bg-color: #3B4455;\n",
       "      --fill-color: #D2E3FC;\n",
       "      --hover-bg-color: #434B5C;\n",
       "      --hover-fill-color: #FFFFFF;\n",
       "      --disabled-bg-color: #3B4455;\n",
       "      --disabled-fill-color: #666;\n",
       "  }\n",
       "\n",
       "  .colab-df-quickchart {\n",
       "    background-color: var(--bg-color);\n",
       "    border: none;\n",
       "    border-radius: 50%;\n",
       "    cursor: pointer;\n",
       "    display: none;\n",
       "    fill: var(--fill-color);\n",
       "    height: 32px;\n",
       "    padding: 0;\n",
       "    width: 32px;\n",
       "  }\n",
       "\n",
       "  .colab-df-quickchart:hover {\n",
       "    background-color: var(--hover-bg-color);\n",
       "    box-shadow: 0 1px 2px rgba(60, 64, 67, 0.3), 0 1px 3px 1px rgba(60, 64, 67, 0.15);\n",
       "    fill: var(--button-hover-fill-color);\n",
       "  }\n",
       "\n",
       "  .colab-df-quickchart-complete:disabled,\n",
       "  .colab-df-quickchart-complete:disabled:hover {\n",
       "    background-color: var(--disabled-bg-color);\n",
       "    fill: var(--disabled-fill-color);\n",
       "    box-shadow: none;\n",
       "  }\n",
       "\n",
       "  .colab-df-spinner {\n",
       "    border: 2px solid var(--fill-color);\n",
       "    border-color: transparent;\n",
       "    border-bottom-color: var(--fill-color);\n",
       "    animation:\n",
       "      spin 1s steps(1) infinite;\n",
       "  }\n",
       "\n",
       "  @keyframes spin {\n",
       "    0% {\n",
       "      border-color: transparent;\n",
       "      border-bottom-color: var(--fill-color);\n",
       "      border-left-color: var(--fill-color);\n",
       "    }\n",
       "    20% {\n",
       "      border-color: transparent;\n",
       "      border-left-color: var(--fill-color);\n",
       "      border-top-color: var(--fill-color);\n",
       "    }\n",
       "    30% {\n",
       "      border-color: transparent;\n",
       "      border-left-color: var(--fill-color);\n",
       "      border-top-color: var(--fill-color);\n",
       "      border-right-color: var(--fill-color);\n",
       "    }\n",
       "    40% {\n",
       "      border-color: transparent;\n",
       "      border-right-color: var(--fill-color);\n",
       "      border-top-color: var(--fill-color);\n",
       "    }\n",
       "    60% {\n",
       "      border-color: transparent;\n",
       "      border-right-color: var(--fill-color);\n",
       "    }\n",
       "    80% {\n",
       "      border-color: transparent;\n",
       "      border-right-color: var(--fill-color);\n",
       "      border-bottom-color: var(--fill-color);\n",
       "    }\n",
       "    90% {\n",
       "      border-color: transparent;\n",
       "      border-bottom-color: var(--fill-color);\n",
       "    }\n",
       "  }\n",
       "</style>\n",
       "\n",
       "  <script>\n",
       "    async function quickchart(key) {\n",
       "      const quickchartButtonEl =\n",
       "        document.querySelector('#' + key + ' button');\n",
       "      quickchartButtonEl.disabled = true;  // To prevent multiple clicks.\n",
       "      quickchartButtonEl.classList.add('colab-df-spinner');\n",
       "      try {\n",
       "        const charts = await google.colab.kernel.invokeFunction(\n",
       "            'suggestCharts', [key], {});\n",
       "      } catch (error) {\n",
       "        console.error('Error during call to suggestCharts:', error);\n",
       "      }\n",
       "      quickchartButtonEl.classList.remove('colab-df-spinner');\n",
       "      quickchartButtonEl.classList.add('colab-df-quickchart-complete');\n",
       "    }\n",
       "    (() => {\n",
       "      let quickchartButtonEl =\n",
       "        document.querySelector('#df-892e1fe1-664d-40da-9ec0-c3a6b9ffc1ab button');\n",
       "      quickchartButtonEl.style.display =\n",
       "        google.colab.kernel.accessAllowed ? 'block' : 'none';\n",
       "    })();\n",
       "  </script>\n",
       "</div>\n",
       "    </div>\n",
       "  </div>\n"
      ],
      "text/plain": [
       "        is_canceled  lead_time  arrival_date_week_number  \\\n",
       "83430             0         20                         5   \n",
       "7716              1         77                        35   \n",
       "50962             1        309                        20   \n",
       "73661             1        234                        35   \n",
       "114720            0         48                        26   \n",
       "49225             1         99                        15   \n",
       "10134             1         92                         7   \n",
       "20943             0          4                         7   \n",
       "50409             1         53                        18   \n",
       "53821             1         11                        27   \n",
       "\n",
       "        arrival_date_day_of_month  stays_in_weekend_nights  \\\n",
       "83430                          29                        1   \n",
       "7716                           22                        1   \n",
       "50962                          12                        0   \n",
       "73661                          29                        0   \n",
       "114720                         26                        1   \n",
       "49225                           8                        0   \n",
       "10134                          15                        0   \n",
       "20943                          13                        0   \n",
       "50409                          30                        0   \n",
       "53821                          30                        0   \n",
       "\n",
       "        stays_in_week_nights  adults  children  babies  is_repeated_guest  \\\n",
       "83430                      2       2         0       0                  0   \n",
       "7716                       2       2         0       0                  0   \n",
       "50962                      2       2         0       0                  0   \n",
       "73661                      4       2         0       0                  0   \n",
       "114720                     0       2         2       0                  0   \n",
       "49225                      2       2         0       0                  0   \n",
       "10134                      3       2         0       0                  0   \n",
       "20943                      1       2         0       0                  0   \n",
       "50409                      1       1         0       0                  0   \n",
       "53821                      3       2         0       0                  0   \n",
       "\n",
       "        ...  assigned_room_type_H  assigned_room_type_I  assigned_room_type_K  \\\n",
       "83430   ...                     0                     0                     0   \n",
       "7716    ...                     0                     0                     0   \n",
       "50962   ...                     0                     0                     0   \n",
       "73661   ...                     0                     0                     0   \n",
       "114720  ...                     0                     0                     0   \n",
       "49225   ...                     0                     0                     0   \n",
       "10134   ...                     0                     0                     0   \n",
       "20943   ...                     0                     0                     0   \n",
       "50409   ...                     0                     0                     0   \n",
       "53821   ...                     0                     0                     0   \n",
       "\n",
       "        assigned_room_type_L  assigned_room_type_P  deposit_type_Non Refund  \\\n",
       "83430                      0                     0                        0   \n",
       "7716                       0                     0                        0   \n",
       "50962                      0                     0                        1   \n",
       "73661                      0                     0                        0   \n",
       "114720                     0                     0                        0   \n",
       "49225                      0                     0                        0   \n",
       "10134                      0                     0                        0   \n",
       "20943                      0                     0                        0   \n",
       "50409                      0                     0                        0   \n",
       "53821                      0                     0                        0   \n",
       "\n",
       "        deposit_type_Refundable  customer_type_Group  customer_type_Transient  \\\n",
       "83430                         0                    0                        1   \n",
       "7716                          0                    0                        1   \n",
       "50962                         0                    0                        1   \n",
       "73661                         0                    0                        1   \n",
       "114720                        0                    0                        1   \n",
       "49225                         0                    0                        1   \n",
       "10134                         0                    0                        1   \n",
       "20943                         0                    0                        1   \n",
       "50409                         0                    0                        1   \n",
       "53821                         0                    0                        1   \n",
       "\n",
       "        customer_type_Transient-Party  \n",
       "83430                               0  \n",
       "7716                                0  \n",
       "50962                               0  \n",
       "73661                               0  \n",
       "114720                              0  \n",
       "49225                               0  \n",
       "10134                               0  \n",
       "20943                               0  \n",
       "50409                               0  \n",
       "53821                               0  \n",
       "\n",
       "[10 rows x 68 columns]"
      ]
     },
     "execution_count": 76,
     "metadata": {},
     "output_type": "execute_result"
    }
   ],
   "source": [
    "df = pd.get_dummies(data=df, drop_first=True, dtype=int)\n",
    "df.sample(10)"
   ]
  },
  {
   "cell_type": "markdown",
   "id": "3dc930d6-68dd-46a9-8728-a77f4dd6889b",
   "metadata": {
    "id": "3dc930d6-68dd-46a9-8728-a77f4dd6889b"
   },
   "source": [
    "Revisamos ahora el balance de las clases"
   ]
  },
  {
   "cell_type": "code",
   "execution_count": 77,
   "id": "e86444ff-9c7f-401e-8be9-fd6bd034e396",
   "metadata": {
    "colab": {
     "base_uri": "https://localhost:8080/"
    },
    "executionInfo": {
     "elapsed": 299,
     "status": "ok",
     "timestamp": 1705335851025,
     "user": {
      "displayName": "Pedro Rupin Gutiérrez",
      "userId": "00594041316908064396"
     },
     "user_tz": 180
    },
    "id": "e86444ff-9c7f-401e-8be9-fd6bd034e396",
    "outputId": "7449f45c-4cef-49bf-acf8-05c3ba50c23f"
   },
   "outputs": [
    {
     "data": {
      "text/plain": [
       "0    75166\n",
       "1    44220\n",
       "Name: is_canceled, dtype: int64"
      ]
     },
     "execution_count": 77,
     "metadata": {},
     "output_type": "execute_result"
    }
   ],
   "source": [
    "df['is_canceled'].value_counts()"
   ]
  },
  {
   "cell_type": "markdown",
   "id": "0294bb8d-c303-4a61-955b-880324ac8056",
   "metadata": {
    "id": "0294bb8d-c303-4a61-955b-880324ac8056"
   },
   "source": [
    "#### Se divide el conjunto en entrenamiento y test (33%) y se estándarizan las variables independientes"
   ]
  },
  {
   "cell_type": "code",
   "execution_count": 78,
   "id": "e135a5f2-a31c-461f-9ca7-a707360148ad",
   "metadata": {
    "executionInfo": {
     "elapsed": 799,
     "status": "ok",
     "timestamp": 1705335856707,
     "user": {
      "displayName": "Pedro Rupin Gutiérrez",
      "userId": "00594041316908064396"
     },
     "user_tz": 180
    },
    "id": "e135a5f2-a31c-461f-9ca7-a707360148ad"
   },
   "outputs": [],
   "source": [
    "X = df.drop(columns=['is_canceled'], axis=1)\n",
    "ss = StandardScaler()\n",
    "X = ss.fit_transform(X)\n",
    "y = df['is_canceled']\n",
    "\n",
    "X_train, X_test, y_train, y_test = train_test_split(X, y, test_size=.33, random_state=23)"
   ]
  },
  {
   "cell_type": "markdown",
   "id": "b8b2cc65-3562-4095-b9e4-c95d64ab8bd8",
   "metadata": {
    "id": "b8b2cc65-3562-4095-b9e4-c95d64ab8bd8"
   },
   "source": [
    "Construiremos ahora los dos modelos de red neuronal ,uno con funciones de activación sigmoidal y otro con relu."
   ]
  },
  {
   "cell_type": "code",
   "execution_count": 79,
   "id": "5b5fa627-2d32-45d3-b092-466a9e09e3ed",
   "metadata": {
    "executionInfo": {
     "elapsed": 334,
     "status": "ok",
     "timestamp": 1705335892092,
     "user": {
      "displayName": "Pedro Rupin Gutiérrez",
      "userId": "00594041316908064396"
     },
     "user_tz": 180
    },
    "id": "5b5fa627-2d32-45d3-b092-466a9e09e3ed"
   },
   "outputs": [],
   "source": [
    "def create_model(n_features, activations, n_hidden_layers, n_neurons,\n",
    "                 k_initializer=HeNormal(), bias_initializer='zeros'):\n",
    "\n",
    "    ann1 = Sequential()\n",
    "    ann1.add(keras.Input(shape=(n_features, )))\n",
    "\n",
    "    constraint = max_norm(3)\n",
    "\n",
    "    for idx, hl in enumerate(range(1, n_hidden_layers+1)):\n",
    "        ann1.add(\n",
    "            Dense(\n",
    "                units=n_neurons,\n",
    "                use_bias=True,\n",
    "                activation=activations[idx],\n",
    "                kernel_initializer=k_initializer[idx],\n",
    "                bias_initializer=bias_initializer[idx],\n",
    "                kernel_constraint=constraint\n",
    "            )\n",
    "        )\n",
    "\n",
    "    ann1.add(\n",
    "        Dense(\n",
    "            units=1,\n",
    "            use_bias=True,\n",
    "            activation='sigmoid',\n",
    "            kernel_initializer='glorot_normal',\n",
    "            bias_initializer='zeros',\n",
    "            kernel_constraint=constraint\n",
    "        )\n",
    "    )\n",
    "\n",
    "    return ann1"
   ]
  },
  {
   "cell_type": "markdown",
   "id": "892bba40-a5e8-46ee-9144-967b0843ee65",
   "metadata": {
    "id": "892bba40-a5e8-46ee-9144-967b0843ee65"
   },
   "source": [
    "Construimos ahora el modelo usando distintas funciones de activación en capas ocultas.\n",
    "- sigmoid\n",
    "- relu\n",
    "- sigmoid\n",
    "- relu"
   ]
  },
  {
   "cell_type": "code",
   "execution_count": 80,
   "id": "89edbfc2-966a-45c9-b841-682f6895a497",
   "metadata": {
    "colab": {
     "base_uri": "https://localhost:8080/"
    },
    "executionInfo": {
     "elapsed": 393,
     "status": "ok",
     "timestamp": 1705335928183,
     "user": {
      "displayName": "Pedro Rupin Gutiérrez",
      "userId": "00594041316908064396"
     },
     "user_tz": 180
    },
    "id": "89edbfc2-966a-45c9-b841-682f6895a497",
    "outputId": "6a350c62-17df-4bb3-cdcd-09aad8609df1"
   },
   "outputs": [
    {
     "name": "stdout",
     "output_type": "stream",
     "text": [
      "Model: \"sequential\"\n",
      "_________________________________________________________________\n",
      " Layer (type)                Output Shape              Param #   \n",
      "=================================================================\n",
      " dense (Dense)               (None, 20)                1360      \n",
      "                                                                 \n",
      " dense_1 (Dense)             (None, 20)                420       \n",
      "                                                                 \n",
      " dense_2 (Dense)             (None, 20)                420       \n",
      "                                                                 \n",
      " dense_3 (Dense)             (None, 1)                 21        \n",
      "                                                                 \n",
      "=================================================================\n",
      "Total params: 2221 (8.68 KB)\n",
      "Trainable params: 2221 (8.68 KB)\n",
      "Non-trainable params: 0 (0.00 Byte)\n",
      "_________________________________________________________________\n"
     ]
    }
   ],
   "source": [
    "ann1 = create_model(\n",
    "    n_features=X_train.shape[1],\n",
    "    activations=['tanh', 'relu', 'tanh'],\n",
    "    n_hidden_layers=3,\n",
    "    n_neurons=20,\n",
    "    k_initializer=['glorot_normal', 'he_normal', 'glorot_normal'],\n",
    "    bias_initializer=['glorot_uniform']*3\n",
    ")\n",
    "\n",
    "ann1.summary()"
   ]
  },
  {
   "cell_type": "code",
   "execution_count": 81,
   "id": "b8a7f90c-dc62-468a-aabe-3335c20ee004",
   "metadata": {
    "colab": {
     "base_uri": "https://localhost:8080/"
    },
    "executionInfo": {
     "elapsed": 5189,
     "status": "ok",
     "timestamp": 1705335937703,
     "user": {
      "displayName": "Pedro Rupin Gutiérrez",
      "userId": "00594041316908064396"
     },
     "user_tz": 180
    },
    "id": "b8a7f90c-dc62-468a-aabe-3335c20ee004",
    "outputId": "d41be69e-2e94-41a0-bb35-931225cb6081"
   },
   "outputs": [
    {
     "name": "stdout",
     "output_type": "stream",
     "text": [
      "Epoch 1/10\n",
      "108/108 [==============================] - 2s 5ms/step - loss: 0.6587 - accuracy: 0.6254 - val_loss: 0.6235 - val_accuracy: 0.6789\n",
      "Epoch 2/10\n",
      "108/108 [==============================] - 0s 3ms/step - loss: 0.5969 - accuracy: 0.7091 - val_loss: 0.5771 - val_accuracy: 0.7260\n",
      "Epoch 3/10\n",
      "108/108 [==============================] - 0s 4ms/step - loss: 0.5552 - accuracy: 0.7342 - val_loss: 0.5402 - val_accuracy: 0.7417\n",
      "Epoch 4/10\n",
      "108/108 [==============================] - 0s 3ms/step - loss: 0.5226 - accuracy: 0.7499 - val_loss: 0.5128 - val_accuracy: 0.7581\n",
      "Epoch 5/10\n",
      "108/108 [==============================] - 0s 3ms/step - loss: 0.4983 - accuracy: 0.7659 - val_loss: 0.4926 - val_accuracy: 0.7717\n",
      "Epoch 6/10\n",
      "108/108 [==============================] - 0s 3ms/step - loss: 0.4802 - accuracy: 0.7773 - val_loss: 0.4782 - val_accuracy: 0.7807\n",
      "Epoch 7/10\n",
      "108/108 [==============================] - 0s 3ms/step - loss: 0.4671 - accuracy: 0.7868 - val_loss: 0.4678 - val_accuracy: 0.7880\n",
      "Epoch 8/10\n",
      "108/108 [==============================] - 0s 3ms/step - loss: 0.4571 - accuracy: 0.7925 - val_loss: 0.4598 - val_accuracy: 0.7922\n",
      "Epoch 9/10\n",
      "108/108 [==============================] - 0s 3ms/step - loss: 0.4493 - accuracy: 0.7964 - val_loss: 0.4536 - val_accuracy: 0.7944\n",
      "Epoch 10/10\n",
      "108/108 [==============================] - 0s 3ms/step - loss: 0.4430 - accuracy: 0.7988 - val_loss: 0.4485 - val_accuracy: 0.7963\n"
     ]
    }
   ],
   "source": [
    "EPOCHS=10\n",
    "\n",
    "ann1.compile(\n",
    "    optimizer=SGD(learning_rate=0.02),\n",
    "    loss='binary_crossentropy',\n",
    "    metrics=['accuracy']\n",
    ")\n",
    "\n",
    "history1 = ann1.fit(\n",
    "    X_train, y_train, epochs=EPOCHS,\n",
    "    batch_size=500,\n",
    "    verbose=1,\n",
    "    validation_split=.33\n",
    ")"
   ]
  },
  {
   "cell_type": "code",
   "execution_count": 82,
   "id": "c63df644-e35e-452b-b3a0-59116734517d",
   "metadata": {
    "colab": {
     "base_uri": "https://localhost:8080/"
    },
    "executionInfo": {
     "elapsed": 3038,
     "status": "ok",
     "timestamp": 1705335945523,
     "user": {
      "displayName": "Pedro Rupin Gutiérrez",
      "userId": "00594041316908064396"
     },
     "user_tz": 180
    },
    "id": "c63df644-e35e-452b-b3a0-59116734517d",
    "outputId": "25975cdd-a414-4465-fbd7-d867c7cf712a"
   },
   "outputs": [
    {
     "name": "stdout",
     "output_type": "stream",
     "text": [
      "1232/1232 [==============================] - 2s 1ms/step\n",
      "              precision    recall  f1-score   support\n",
      "\n",
      "           0       0.79      0.92      0.85     24886\n",
      "           1       0.81      0.59      0.68     14512\n",
      "\n",
      "    accuracy                           0.80     39398\n",
      "   macro avg       0.80      0.76      0.77     39398\n",
      "weighted avg       0.80      0.80      0.79     39398\n",
      "\n"
     ]
    }
   ],
   "source": [
    "yhat = ann1.predict(X_test)\n",
    "yhat_class = np.where(yhat > 0.5, 1, 0)\n",
    "\n",
    "print(classification_report(y_test, yhat_class))"
   ]
  },
  {
   "cell_type": "code",
   "execution_count": 83,
   "id": "12fe68c0-222d-49f6-95d0-93e40287dc6a",
   "metadata": {
    "colab": {
     "base_uri": "https://localhost:8080/",
     "height": 388
    },
    "executionInfo": {
     "elapsed": 768,
     "status": "ok",
     "timestamp": 1705335948892,
     "user": {
      "displayName": "Pedro Rupin Gutiérrez",
      "userId": "00594041316908064396"
     },
     "user_tz": 180
    },
    "id": "12fe68c0-222d-49f6-95d0-93e40287dc6a",
    "outputId": "894e8ff2-8dcb-4617-83f8-c433682e2df1"
   },
   "outputs": [
    {
     "data": {
      "image/png": "[encoded data removed]",
      "text/plain": [
       "<Figure size 1000x400 with 2 Axes>"
      ]
     },
     "metadata": {},
     "output_type": "display_data"
    }
   ],
   "source": [
    "def viz_loss(history):\n",
    "    plt.style.use('ggplot')\n",
    "    epochs_ = len(history['accuracy'])\n",
    "    fig, ax = plt.subplots(1, 2, figsize=(10, 4))\n",
    "\n",
    "    # accuracy\n",
    "    ax[0].plot(history['accuracy'])\n",
    "    ax[0].plot(history['val_accuracy'])\n",
    "    ax[0].set_xticks(np.arange(epochs_), np.arange(1, epochs_+1))\n",
    "    ax[0].set_title('model accuracy')\n",
    "    ax[0].set_ylabel('accuracy')\n",
    "    ax[0].set_xlabel('epoch')\n",
    "    ax[0].legend(['train', 'test'], loc='lower right')\n",
    "\n",
    "    # loss\n",
    "    ax[1].plot(history['loss'])\n",
    "    ax[1].plot(history['val_loss'])\n",
    "    ax[1].set_xticks(np.arange(epochs_), np.arange(1, epochs_+1))\n",
    "    ax[1].set_title('model loss')\n",
    "    ax[1].set_ylabel('loss')\n",
    "    ax[1].set_xlabel('epoch')\n",
    "    ax[1].legend(['train', 'test'], loc='upper center')\n",
    "\n",
    "    plt.tight_layout()\n",
    "    plt.show()\n",
    "\n",
    "viz_loss(history1.history)"
   ]
  },
  {
   "cell_type": "markdown",
   "id": "b1220722-a51e-4161-a6cf-668d5767006f",
   "metadata": {
    "id": "b1220722-a51e-4161-a6cf-668d5767006f"
   },
   "source": [
    "Construiremos ahora un modelo usando la función de activación **tanh** en todas las capas ocultas"
   ]
  },
  {
   "cell_type": "code",
   "execution_count": 84,
   "id": "c3dd6965-80c9-40ec-835f-05d805a7b9ea",
   "metadata": {
    "colab": {
     "base_uri": "https://localhost:8080/"
    },
    "executionInfo": {
     "elapsed": 376,
     "status": "ok",
     "timestamp": 1705335991776,
     "user": {
      "displayName": "Pedro Rupin Gutiérrez",
      "userId": "00594041316908064396"
     },
     "user_tz": 180
    },
    "id": "c3dd6965-80c9-40ec-835f-05d805a7b9ea",
    "outputId": "a09529ab-cbe1-43c5-bdde-48226d0f5902"
   },
   "outputs": [
    {
     "name": "stdout",
     "output_type": "stream",
     "text": [
      "Model: \"sequential_1\"\n",
      "_________________________________________________________________\n",
      " Layer (type)                Output Shape              Param #   \n",
      "=================================================================\n",
      " dense_4 (Dense)             (None, 20)                1360      \n",
      "                                                                 \n",
      " dense_5 (Dense)             (None, 20)                420       \n",
      "                                                                 \n",
      " dense_6 (Dense)             (None, 20)                420       \n",
      "                                                                 \n",
      " dense_7 (Dense)             (None, 1)                 21        \n",
      "                                                                 \n",
      "=================================================================\n",
      "Total params: 2221 (8.68 KB)\n",
      "Trainable params: 2221 (8.68 KB)\n",
      "Non-trainable params: 0 (0.00 Byte)\n",
      "_________________________________________________________________\n"
     ]
    }
   ],
   "source": [
    "ann2 = create_model(\n",
    "    n_features=X_train.shape[1],\n",
    "    activations=['tanh']*3,\n",
    "    n_hidden_layers=3,\n",
    "    n_neurons=20,\n",
    "    k_initializer=['glorot_normal']*3,\n",
    "    bias_initializer=['glorot_uniform']*3\n",
    ")\n",
    "\n",
    "ann2.summary()"
   ]
  },
  {
   "cell_type": "code",
   "execution_count": 85,
   "id": "8ef7bfcc-ed72-40bb-b709-f9ec5e6acf3c",
   "metadata": {
    "colab": {
     "base_uri": "https://localhost:8080/"
    },
    "executionInfo": {
     "elapsed": 6156,
     "status": "ok",
     "timestamp": 1705336001350,
     "user": {
      "displayName": "Pedro Rupin Gutiérrez",
      "userId": "00594041316908064396"
     },
     "user_tz": 180
    },
    "id": "8ef7bfcc-ed72-40bb-b709-f9ec5e6acf3c",
    "outputId": "d0c157c8-4fb8-4124-8657-4bc416c16b51"
   },
   "outputs": [
    {
     "name": "stdout",
     "output_type": "stream",
     "text": [
      "Epoch 1/10\n",
      "108/108 [==============================] - 1s 4ms/step - loss: 0.6415 - accuracy: 0.6399 - val_loss: 0.6042 - val_accuracy: 0.7113\n",
      "Epoch 2/10\n",
      "108/108 [==============================] - 0s 3ms/step - loss: 0.5754 - accuracy: 0.7379 - val_loss: 0.5517 - val_accuracy: 0.7521\n",
      "Epoch 3/10\n",
      "108/108 [==============================] - 0s 4ms/step - loss: 0.5281 - accuracy: 0.7636 - val_loss: 0.5128 - val_accuracy: 0.7668\n",
      "Epoch 4/10\n",
      "108/108 [==============================] - 0s 3ms/step - loss: 0.4964 - accuracy: 0.7729 - val_loss: 0.4897 - val_accuracy: 0.7763\n",
      "Epoch 5/10\n",
      "108/108 [==============================] - 0s 3ms/step - loss: 0.4771 - accuracy: 0.7815 - val_loss: 0.4759 - val_accuracy: 0.7838\n",
      "Epoch 6/10\n",
      "108/108 [==============================] - 0s 3ms/step - loss: 0.4648 - accuracy: 0.7890 - val_loss: 0.4667 - val_accuracy: 0.7884\n",
      "Epoch 7/10\n",
      "108/108 [==============================] - 0s 3ms/step - loss: 0.4561 - accuracy: 0.7936 - val_loss: 0.4602 - val_accuracy: 0.7913\n",
      "Epoch 8/10\n",
      "108/108 [==============================] - 0s 3ms/step - loss: 0.4496 - accuracy: 0.7957 - val_loss: 0.4549 - val_accuracy: 0.7935\n",
      "Epoch 9/10\n",
      "108/108 [==============================] - 0s 3ms/step - loss: 0.4442 - accuracy: 0.7979 - val_loss: 0.4505 - val_accuracy: 0.7946\n",
      "Epoch 10/10\n",
      "108/108 [==============================] - 0s 3ms/step - loss: 0.4396 - accuracy: 0.7999 - val_loss: 0.4468 - val_accuracy: 0.7957\n"
     ]
    }
   ],
   "source": [
    "EPOCHS=10\n",
    "\n",
    "ann2.compile(\n",
    "    optimizer=SGD(learning_rate=0.02),\n",
    "    loss='binary_crossentropy',\n",
    "    metrics=['accuracy']\n",
    ")\n",
    "\n",
    "history2 = ann2.fit(\n",
    "    X_train, y_train, epochs=EPOCHS,\n",
    "    batch_size=500,\n",
    "    verbose=1,\n",
    "    validation_split=.33\n",
    ")"
   ]
  },
  {
   "cell_type": "code",
   "execution_count": 86,
   "id": "1c82b6b1-46f3-4f30-9cf3-b2dbb84d708a",
   "metadata": {
    "colab": {
     "base_uri": "https://localhost:8080/"
    },
    "executionInfo": {
     "elapsed": 2250,
     "status": "ok",
     "timestamp": 1705336007707,
     "user": {
      "displayName": "Pedro Rupin Gutiérrez",
      "userId": "00594041316908064396"
     },
     "user_tz": 180
    },
    "id": "1c82b6b1-46f3-4f30-9cf3-b2dbb84d708a",
    "outputId": "e84b5889-d664-462a-8a90-9a1dc0266d93"
   },
   "outputs": [
    {
     "name": "stdout",
     "output_type": "stream",
     "text": [
      "1232/1232 [==============================] - 2s 1ms/step\n",
      "              precision    recall  f1-score   support\n",
      "\n",
      "           0       0.80      0.91      0.85     24886\n",
      "           1       0.80      0.61      0.69     14512\n",
      "\n",
      "    accuracy                           0.80     39398\n",
      "   macro avg       0.80      0.76      0.77     39398\n",
      "weighted avg       0.80      0.80      0.79     39398\n",
      "\n"
     ]
    }
   ],
   "source": [
    "yhat = ann2.predict(X_test)\n",
    "yhat_class = np.where(yhat > 0.5, 1, 0)\n",
    "\n",
    "print(classification_report(y_test, yhat_class))"
   ]
  },
  {
   "cell_type": "code",
   "execution_count": 87,
   "id": "187eb46c-b6dd-453e-b5f5-7bf2ca6f3196",
   "metadata": {
    "colab": {
     "base_uri": "https://localhost:8080/",
     "height": 388
    },
    "executionInfo": {
     "elapsed": 798,
     "status": "ok",
     "timestamp": 1705336011874,
     "user": {
      "displayName": "Pedro Rupin Gutiérrez",
      "userId": "00594041316908064396"
     },
     "user_tz": 180
    },
    "id": "187eb46c-b6dd-453e-b5f5-7bf2ca6f3196",
    "outputId": "43175857-c773-4e67-9489-468fcb8c82e8"
   },
   "outputs": [
    {
     "data": {
      "image/png": "[encoded data removed]",
      "text/plain": [
       "<Figure size 1000x400 with 2 Axes>"
      ]
     },
     "metadata": {},
     "output_type": "display_data"
    }
   ],
   "source": [
    "viz_loss(history2.history)"
   ]
  },
  {
   "cell_type": "markdown",
   "id": "88b89024-d2c7-4b6a-a0cd-408bda8d27fa",
   "metadata": {
    "id": "88b89024-d2c7-4b6a-a0cd-408bda8d27fa"
   },
   "source": [
    "#### Construcción de red neuronal con búsqueda de grilla\n",
    "Construiremos ahora una red neuronal con regularización Dropout, aplicando búsqueda de grilla para tres fold."
   ]
  },
  {
   "cell_type": "code",
   "execution_count": 89,
   "id": "15a3523f-d2cc-4b26-9b31-4d77eaf02fbd",
   "metadata": {
    "executionInfo": {
     "elapsed": 353,
     "status": "ok",
     "timestamp": 1705336074299,
     "user": {
      "displayName": "Pedro Rupin Gutiérrez",
      "userId": "00594041316908064396"
     },
     "user_tz": 180
    },
    "id": "15a3523f-d2cc-4b26-9b31-4d77eaf02fbd"
   },
   "outputs": [],
   "source": [
    "\n",
    "def create_model_grilla(n_hidden_layers=2, n_neurons=80,\n",
    "                        activation='relu', dropout_rate=.001,\n",
    "                        k_initializer='glorot_normal', meta={}):\n",
    "\n",
    "    n_features_in_ = meta[\"n_features_in_\"]\n",
    "    X_shape_ = meta[\"X_shape_\"]\n",
    "\n",
    "    # Restricción para garantizar que la norma de cada\n",
    "    # vector de pesos no exceda de tres.\n",
    "    constraint = max_norm(3)\n",
    "\n",
    "    # Arquitectura secuencial\n",
    "    ann_tmp = Sequential()\n",
    "\n",
    "    # Capa de entrada\n",
    "    ann_tmp.add(keras.Input(shape=(n_features_in_, )))\n",
    "\n",
    "    # Capas ocultas\n",
    "    for hl in range(n_hidden_layers):\n",
    "        ann_tmp.add(\n",
    "            Dense(\n",
    "                units=n_neurons,\n",
    "                use_bias=True,\n",
    "                activation=activation,\n",
    "                kernel_initializer=k_initializer,\n",
    "                bias_initializer='glorot_uniform',\n",
    "                #kernel_regularizer=l2(l2=0.001),\n",
    "                kernel_constraint=constraint\n",
    "            )\n",
    "        )\n",
    "        ann_tmp.add(\n",
    "            Dropout(rate=dropout_rate)\n",
    "        )\n",
    "\n",
    "\n",
    "\n",
    "    # Capa se salida\n",
    "    ann_tmp.add(\n",
    "        Dense(\n",
    "            units=1,\n",
    "            use_bias=True,\n",
    "            activation='sigmoid',\n",
    "            kernel_initializer='glorot_normal',\n",
    "            bias_initializer='glorot_uniform',\n",
    "            kernel_regularizer=l1(l1=0.001),\n",
    "            kernel_constraint=constraint\n",
    "        )\n",
    "    )\n",
    "\n",
    "    return ann_tmp"
   ]
  },
  {
   "cell_type": "code",
   "execution_count": 90,
   "id": "ba51c466-f695-48bc-9f8e-53b996bd4171",
   "metadata": {
    "executionInfo": {
     "elapsed": 351,
     "status": "ok",
     "timestamp": 1705336078285,
     "user": {
      "displayName": "Pedro Rupin Gutiérrez",
      "userId": "00594041316908064396"
     },
     "user_tz": 180
    },
    "id": "ba51c466-f695-48bc-9f8e-53b996bd4171"
   },
   "outputs": [],
   "source": [
    "clf = KerasClassifier(\n",
    "    create_model_grilla,\n",
    "    loss='binary_crossentropy',\n",
    "    verbose=1,\n",
    "    metrics=['accuracy'],\n",
    "    validation_split=.33,\n",
    ")"
   ]
  },
  {
   "cell_type": "code",
   "execution_count": 91,
   "id": "2e07238d-a09f-480c-b772-391b401abf44",
   "metadata": {
    "colab": {
     "base_uri": "https://localhost:8080/"
    },
    "executionInfo": {
     "elapsed": 188693,
     "status": "ok",
     "timestamp": 1705336269975,
     "user": {
      "displayName": "Pedro Rupin Gutiérrez",
      "userId": "00594041316908064396"
     },
     "user_tz": 180
    },
    "id": "2e07238d-a09f-480c-b772-391b401abf44",
    "outputId": "3aff452a-b7d0-45ce-c20f-d769ee6e452c"
   },
   "outputs": [
    {
     "name": "stderr",
     "output_type": "stream",
     "text": [
      "/usr/local/lib/python3.10/dist-packages/joblib/externals/loky/process_executor.py:752: UserWarning: A worker stopped while some jobs were given to the executor. This can be caused by a too short worker timeout or by a memory leak.\n",
      "  warnings.warn(\n"
     ]
    },
    {
     "name": "stdout",
     "output_type": "stream",
     "text": [
      "Epoch 1/10\n",
      "108/108 [==============================] - 2s 6ms/step - loss: 0.5067 - accuracy: 0.7550 - val_loss: 0.4482 - val_accuracy: 0.7966\n",
      "Epoch 2/10\n",
      "108/108 [==============================] - 0s 4ms/step - loss: 0.4319 - accuracy: 0.8046 - val_loss: 0.4327 - val_accuracy: 0.8027\n",
      "Epoch 3/10\n",
      "108/108 [==============================] - 0s 4ms/step - loss: 0.4195 - accuracy: 0.8098 - val_loss: 0.4244 - val_accuracy: 0.8052\n",
      "Epoch 4/10\n",
      "108/108 [==============================] - 0s 4ms/step - loss: 0.4115 - accuracy: 0.8134 - val_loss: 0.4207 - val_accuracy: 0.8037\n",
      "Epoch 5/10\n",
      "108/108 [==============================] - 0s 4ms/step - loss: 0.4059 - accuracy: 0.8140 - val_loss: 0.4233 - val_accuracy: 0.8039\n",
      "Epoch 6/10\n",
      "108/108 [==============================] - 0s 4ms/step - loss: 0.4014 - accuracy: 0.8151 - val_loss: 0.4230 - val_accuracy: 0.7977\n",
      "Epoch 7/10\n",
      "108/108 [==============================] - 0s 4ms/step - loss: 0.3981 - accuracy: 0.8165 - val_loss: 0.4106 - val_accuracy: 0.8099\n",
      "Epoch 8/10\n",
      "108/108 [==============================] - 0s 4ms/step - loss: 0.3951 - accuracy: 0.8177 - val_loss: 0.4143 - val_accuracy: 0.8074\n",
      "Epoch 9/10\n",
      "108/108 [==============================] - 0s 4ms/step - loss: 0.3933 - accuracy: 0.8189 - val_loss: 0.4087 - val_accuracy: 0.8127\n",
      "Epoch 10/10\n",
      "108/108 [==============================] - 0s 4ms/step - loss: 0.3911 - accuracy: 0.8202 - val_loss: 0.4072 - val_accuracy: 0.8129\n",
      "\n",
      "\n",
      "Best: 0.814335 using {'batch_size': 500, 'epochs': 10, 'model__activation': 'tanh', 'model__dropout_rate': 0.001, 'model__k_initializer': 'glorot_uniform', 'model__n_hidden_layers': 4, 'model__n_neurons': 20, 'optimizer': 'adagrad', 'optimizer__learning_rate': 0.06}\n"
     ]
    }
   ],
   "source": [
    "# Espacio en el que se búsca los hiper parámetros óptimos\n",
    "param_grid = {\n",
    "    'model__n_hidden_layers': [3, 4],\n",
    "    'model__n_neurons': [20],\n",
    "    'model__activation': ['tanh'],\n",
    "    'batch_size': [500],\n",
    "    'epochs': [10],\n",
    "    'optimizer': ['SGD', 'adagrad'],\n",
    "    'optimizer__learning_rate': [0.03, 0.06],\n",
    "    'model__dropout_rate': [0.001],\n",
    "    'model__k_initializer': ['glorot_normal', 'glorot_uniform']\n",
    "}\n",
    "\n",
    "# GridSearchCV\n",
    "grid = GridSearchCV(estimator=clf, param_grid=param_grid,\n",
    "    scoring='accuracy', cv=3, verbose=0, n_jobs=-1)\n",
    "\n",
    "grid_result = grid.fit(X_train, y_train)\n",
    "\n",
    "# Mostrar mejores hiper parámetros encontrados\n",
    "print(\"\\n\\nBest: %f using %s\" % (grid_result.best_score_, grid_result.best_params_))"
   ]
  },
  {
   "cell_type": "code",
   "execution_count": 92,
   "id": "b37f49f4-f4f7-4097-8397-232b187b3d3a",
   "metadata": {
    "colab": {
     "base_uri": "https://localhost:8080/"
    },
    "executionInfo": {
     "elapsed": 714,
     "status": "ok",
     "timestamp": 1705336281222,
     "user": {
      "displayName": "Pedro Rupin Gutiérrez",
      "userId": "00594041316908064396"
     },
     "user_tz": 180
    },
    "id": "b37f49f4-f4f7-4097-8397-232b187b3d3a",
    "outputId": "6e0905d1-f64a-4829-e824-2606ee690222"
   },
   "outputs": [
    {
     "name": "stdout",
     "output_type": "stream",
     "text": [
      "79/79 [==============================] - 0s 1ms/step\n",
      "              precision    recall  f1-score   support\n",
      "\n",
      "           0       0.83      0.89      0.86     24886\n",
      "           1       0.79      0.68      0.73     14512\n",
      "\n",
      "    accuracy                           0.81     39398\n",
      "   macro avg       0.81      0.79      0.79     39398\n",
      "weighted avg       0.81      0.81      0.81     39398\n",
      "\n"
     ]
    }
   ],
   "source": [
    "yhat_class = grid_result.best_estimator_.predict(X_test)\n",
    "print(classification_report(y_test, yhat_class))"
   ]
  },
  {
   "cell_type": "code",
   "execution_count": 93,
   "id": "fff2f898-b59a-47ce-9017-b0440c212a9c",
   "metadata": {
    "colab": {
     "base_uri": "https://localhost:8080/",
     "height": 470
    },
    "executionInfo": {
     "elapsed": 894,
     "status": "ok",
     "timestamp": 1705336301961,
     "user": {
      "displayName": "Pedro Rupin Gutiérrez",
      "userId": "00594041316908064396"
     },
     "user_tz": 180
    },
    "id": "fff2f898-b59a-47ce-9017-b0440c212a9c",
    "outputId": "ed700437-8dc4-4a0c-ab78-c7d97861b052"
   },
   "outputs": [
    {
     "name": "stdout",
     "output_type": "stream",
     "text": [
      "79/79 [==============================] - 0s 1ms/step\n"
     ]
    },
    {
     "data": {
      "image/png": "[encoded data removed]",
      "text/plain": [
       "<Figure size 640x480 with 1 Axes>"
      ]
     },
     "metadata": {},
     "output_type": "display_data"
    }
   ],
   "source": [
    "yhat_proba = grid_result.best_estimator_.predict_proba(X_test)[:,1]\n",
    "fpr, tpr, thresholds = roc_curve(y_test, yhat_proba)\n",
    "auc = np.round(roc_auc_score(y_test, yhat_proba), 2)\n",
    "\n",
    "plt.plot(fpr, tpr, '--', label=f'auc= {auc}')\n",
    "plt.xlabel('Tasa de falsos positivos')\n",
    "plt.ylabel('Tasa de verdaderos positivos')\n",
    "plt.plot([0, 1], [0, 1], ':')\n",
    "plt.legend();"
   ]
  },
  {
   "cell_type": "markdown",
   "id": "04f9ac6f-0653-44e0-8fdb-7e061a38a0ec",
   "metadata": {
    "id": "04f9ac6f-0653-44e0-8fdb-7e061a38a0ec"
   },
   "source": [
    "Del conjunto original (sin los valores excluidos) escogemos ahora al azar cinco observaciones en que “deposit_type_Non Refund” sea cero, y con esto realizaremos una predicción usando el mejor modelo encontrado por la búsqueda de grilla anterior."
   ]
  },
  {
   "cell_type": "code",
   "execution_count": 94,
   "id": "0e2a21dd-ee91-4687-83a1-b9cb5cbdc4d6",
   "metadata": {
    "colab": {
     "base_uri": "https://localhost:8080/"
    },
    "executionInfo": {
     "elapsed": 297,
     "status": "ok",
     "timestamp": 1705336362504,
     "user": {
      "displayName": "Pedro Rupin Gutiérrez",
      "userId": "00594041316908064396"
     },
     "user_tz": 180
    },
    "id": "0e2a21dd-ee91-4687-83a1-b9cb5cbdc4d6",
    "outputId": "925b3f21-3407-47c3-ff9e-42766dd47b7e"
   },
   "outputs": [
    {
     "name": "stdout",
     "output_type": "stream",
     "text": [
      "1/1 [==============================] - 0s 18ms/step\n",
      "              precision    recall  f1-score   support\n",
      "\n",
      "           0       0.67      1.00      0.80         2\n",
      "           1       1.00      0.67      0.80         3\n",
      "\n",
      "    accuracy                           0.80         5\n",
      "   macro avg       0.83      0.83      0.80         5\n",
      "weighted avg       0.87      0.80      0.80         5\n",
      "\n"
     ]
    }
   ],
   "source": [
    "n_obs = 5\n",
    "\n",
    "X_new = df[df['deposit_type_Non Refund']==0].sample(n_obs)\n",
    "X_test_new = X_new.drop(columns='is_canceled')\n",
    "y_test_new = X_new['is_canceled']\n",
    "\n",
    "yhat_new = grid_result.best_estimator_.predict(X_test_new)\n",
    "print(classification_report(y_test_new, yhat_new))"
   ]
  }
 ],
 "metadata": {
  "colab": {
   "provenance": []
  },
  "kernelspec": {
   "display_name": "Python 3 (ipykernel)",
   "language": "python",
   "name": "python3"
  },
  "language_info": {
   "codemirror_mode": {
    "name": "ipython",
    "version": 3
   },
   "file_extension": ".py",
   "mimetype": "text/x-python",
   "name": "python",
   "nbconvert_exporter": "python",
   "pygments_lexer": "ipython3",
   "version": "3.11.8"
  }
 },
 "nbformat": 4,
 "nbformat_minor": 5
}
